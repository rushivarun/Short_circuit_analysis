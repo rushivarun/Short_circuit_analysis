{
  "nbformat": 4,
  "nbformat_minor": 0,
  "metadata": {
    "colab": {
      "name": "Shortcircuit.ipynb",
      "provenance": [],
      "include_colab_link": true
    },
    "kernelspec": {
      "name": "python3",
      "display_name": "Python 3"
    }
  },
  "cells": [
    {
      "cell_type": "markdown",
      "metadata": {
        "id": "view-in-github",
        "colab_type": "text"
      },
      "source": [
        "<a href=\"https://colab.research.google.com/github/rushivarun/Short_circuit_analysis/blob/master/Shortcircuit.ipynb\" target=\"_parent\"><img src=\"https://colab.research.google.com/assets/colab-badge.svg\" alt=\"Open In Colab\"/></a>"
      ]
    },
    {
      "cell_type": "markdown",
      "metadata": {
        "id": "eH0IQ5zpqL1U",
        "colab_type": "text"
      },
      "source": [
        "# **Power System Engineering**\n",
        "## Digital Assignment 2\n",
        "\n",
        "### Submitted by\n",
        "#### **Muskaan Singh 17BEE0312**\n",
        "#### **Shivram Sugavanam 17BEE0132**\n",
        "#### **Rushi Varun 17BEE0285**\n",
        "\n",
        "\n",
        "\n",
        "\n"
      ]
    },
    {
      "cell_type": "markdown",
      "metadata": {
        "id": "HoUU0wG1tzWb",
        "colab_type": "text"
      },
      "source": [
        "**TASK**\n",
        "### Using any software simulation tool, Investigate the nature of fault and location of fault for any sample power system of your choice. Give your inference on the above investigation."
      ]
    },
    {
      "cell_type": "markdown",
      "metadata": {
        "id": "BL-NLI1xtkbm",
        "colab_type": "text"
      },
      "source": [
        "The following is a IPython notebook aiming to solve the above given task."
      ]
    },
    {
      "cell_type": "code",
      "metadata": {
        "id": "YLbgA5e-jYPE",
        "colab_type": "code",
        "outputId": "3278707e-cffe-4f22-f77f-8f968b8de3d6",
        "colab": {
          "base_uri": "https://localhost:8080/",
          "height": 377
        }
      },
      "source": [
        "# install necessary dependencies\n",
        "# panda power is a python module for simuating power system locally\n",
        "!pip install pandapower"
      ],
      "execution_count": 0,
      "outputs": [
        {
          "output_type": "stream",
          "text": [
            "Collecting pandapower\n",
            "\u001b[?25l  Downloading https://files.pythonhosted.org/packages/54/9e/164c7592154cdf8e03fefbedcbe68cd042327d1f4d809e3ccde98fe27d0a/pandapower-2.1.0.zip (4.4MB)\n",
            "\u001b[K     |████████████████████████████████| 4.5MB 3.5MB/s \n",
            "\u001b[?25hRequirement already satisfied: pandas>=0.17 in /usr/local/lib/python3.6/dist-packages (from pandapower) (0.25.2)\n",
            "Requirement already satisfied: networkx in /usr/local/lib/python3.6/dist-packages (from pandapower) (2.4)\n",
            "Requirement already satisfied: scipy in /usr/local/lib/python3.6/dist-packages (from pandapower) (1.3.1)\n",
            "Requirement already satisfied: numpy>=0.11 in /usr/local/lib/python3.6/dist-packages (from pandapower) (1.17.3)\n",
            "Requirement already satisfied: packaging in /usr/local/lib/python3.6/dist-packages (from pandapower) (19.2)\n",
            "Requirement already satisfied: pytz>=2017.2 in /usr/local/lib/python3.6/dist-packages (from pandas>=0.17->pandapower) (2018.9)\n",
            "Requirement already satisfied: python-dateutil>=2.6.1 in /usr/local/lib/python3.6/dist-packages (from pandas>=0.17->pandapower) (2.6.1)\n",
            "Requirement already satisfied: decorator>=4.3.0 in /usr/local/lib/python3.6/dist-packages (from networkx->pandapower) (4.4.0)\n",
            "Requirement already satisfied: six in /usr/local/lib/python3.6/dist-packages (from packaging->pandapower) (1.12.0)\n",
            "Requirement already satisfied: pyparsing>=2.0.2 in /usr/local/lib/python3.6/dist-packages (from packaging->pandapower) (2.4.2)\n",
            "Building wheels for collected packages: pandapower\n",
            "  Building wheel for pandapower (setup.py) ... \u001b[?25l\u001b[?25hdone\n",
            "  Created wheel for pandapower: filename=pandapower-2.1.0-cp36-none-any.whl size=4434079 sha256=62431b4358d076aeeb631614b61864f08343e5607ed62209d5108489814b8484\n",
            "  Stored in directory: /root/.cache/pip/wheels/f8/34/f9/9a3f4b424443ffed9c0840ab4903c6d6181da90c544ccd5210\n",
            "Successfully built pandapower\n",
            "Installing collected packages: pandapower\n",
            "Successfully installed pandapower-2.1.0\n"
          ],
          "name": "stdout"
        }
      ]
    },
    {
      "cell_type": "markdown",
      "metadata": {
        "id": "XgIxIJPojqIG",
        "colab_type": "text"
      },
      "source": [
        "First, we create a simple open ring network with 4 buses, that are connected by one transformer and two lines with one open sectioning point. The network is fed by an external grid connection at bus 1:\n",
        "\n"
      ]
    },
    {
      "cell_type": "code",
      "metadata": {
        "id": "a2_OPbwkjrTf",
        "colab_type": "code",
        "colab": {}
      },
      "source": [
        "import pandapower as pp\n",
        "import pandapower.shortcircuit as sc\n",
        "\n",
        "def ring_network():\n",
        "    net = pp.create_empty_network()\n",
        "    b1 = pp.create_bus(net, 220)\n",
        "    b2 = pp.create_bus(net, 110)\n",
        "    b3 = pp.create_bus(net, 110)\n",
        "    b4 = pp.create_bus(net, 110)\n",
        "    pp.create_ext_grid(net, b1, s_sc_max_mva=100., s_sc_min_mva=80., rx_min=0.20, rx_max=0.35)\n",
        "    pp.create_transformer(net, b1, b2, \"100 MVA 220/110 kV\")\n",
        "    pp.create_line(net, b2, b3, std_type=\"N2XS(FL)2Y 1x120 RM/35 64/110 kV\" , length_km=15.)\n",
        "    l2 = pp.create_line(net, b3, b4, std_type=\"N2XS(FL)2Y 1x120 RM/35 64/110 kV\" , length_km=12.)\n",
        "    pp.create_line(net, b4, b2, std_type=\"N2XS(FL)2Y 1x120 RM/35 64/110 kV\" , length_km=10.)\n",
        "    pp.create_switch(net, b4, l2, closed=False, et=\"l\")\n",
        "    return net"
      ],
      "execution_count": 0,
      "outputs": []
    },
    {
      "cell_type": "markdown",
      "metadata": {
        "id": "m2VjCDQKj7P4",
        "colab_type": "text"
      },
      "source": [
        "# Symmetric Short-Circuit Calculation\n",
        "Maximum Short Circuit Currents\n",
        "Now, we load the network and calculate the maximum short-circuit currents with the calc_sc function:"
      ]
    },
    {
      "cell_type": "code",
      "metadata": {
        "id": "8PD1cRMVj4_M",
        "colab_type": "code",
        "outputId": "02029146-84c4-42e5-b337-523cac35a2bf",
        "colab": {
          "base_uri": "https://localhost:8080/",
          "height": 190
        }
      },
      "source": [
        "net = ring_network()\n",
        "sc.calc_sc(net, case=\"max\", ip=True, ith=True, branch_results=True)\n",
        "net.res_bus_sc\n"
      ],
      "execution_count": 0,
      "outputs": [
        {
          "output_type": "stream",
          "text": [
            "Branch results are in beta mode and might not always be reliable, especially for transformers\n"
          ],
          "name": "stderr"
        },
        {
          "output_type": "execute_result",
          "data": {
            "text/html": [
              "<div>\n",
              "<style scoped>\n",
              "    .dataframe tbody tr th:only-of-type {\n",
              "        vertical-align: middle;\n",
              "    }\n",
              "\n",
              "    .dataframe tbody tr th {\n",
              "        vertical-align: top;\n",
              "    }\n",
              "\n",
              "    .dataframe thead th {\n",
              "        text-align: right;\n",
              "    }\n",
              "</style>\n",
              "<table border=\"1\" class=\"dataframe\">\n",
              "  <thead>\n",
              "    <tr style=\"text-align: right;\">\n",
              "      <th></th>\n",
              "      <th>ikss_ka</th>\n",
              "      <th>ip_ka</th>\n",
              "      <th>ith_ka</th>\n",
              "    </tr>\n",
              "  </thead>\n",
              "  <tbody>\n",
              "    <tr>\n",
              "      <th>0</th>\n",
              "      <td>0.262432</td>\n",
              "      <td>0.505834</td>\n",
              "      <td>0.263723</td>\n",
              "    </tr>\n",
              "    <tr>\n",
              "      <th>1</th>\n",
              "      <td>0.476454</td>\n",
              "      <td>0.942589</td>\n",
              "      <td>0.479039</td>\n",
              "    </tr>\n",
              "    <tr>\n",
              "      <th>2</th>\n",
              "      <td>0.466671</td>\n",
              "      <td>0.915418</td>\n",
              "      <td>0.469123</td>\n",
              "    </tr>\n",
              "    <tr>\n",
              "      <th>3</th>\n",
              "      <td>0.469892</td>\n",
              "      <td>0.924301</td>\n",
              "      <td>0.472386</td>\n",
              "    </tr>\n",
              "  </tbody>\n",
              "</table>\n",
              "</div>"
            ],
            "text/plain": [
              "    ikss_ka     ip_ka    ith_ka\n",
              "0  0.262432  0.505834  0.263723\n",
              "1  0.476454  0.942589  0.479039\n",
              "2  0.466671  0.915418  0.469123\n",
              "3  0.469892  0.924301  0.472386"
            ]
          },
          "metadata": {
            "tags": []
          },
          "execution_count": 3
        }
      ]
    },
    {
      "cell_type": "markdown",
      "metadata": {
        "id": "vM0-72h-kHXy",
        "colab_type": "text"
      },
      "source": [
        "where ikss is the initial short-circuit current, ip is the peak short-circuit current and ith is the thermal equivalent current.\n",
        "\n",
        "For branches, the results are defined as the maximum current flows through that occurs for a fault at any bus in the network. The results are available seperately for lines:"
      ]
    },
    {
      "cell_type": "code",
      "metadata": {
        "id": "2zt_4UmYkFk1",
        "colab_type": "code",
        "outputId": "ce2e956b-bdda-4258-8bd1-429b03aad844",
        "colab": {
          "base_uri": "https://localhost:8080/",
          "height": 142
        }
      },
      "source": [
        "net.res_line_sc"
      ],
      "execution_count": 0,
      "outputs": [
        {
          "output_type": "execute_result",
          "data": {
            "text/html": [
              "<div>\n",
              "<style scoped>\n",
              "    .dataframe tbody tr th:only-of-type {\n",
              "        vertical-align: middle;\n",
              "    }\n",
              "\n",
              "    .dataframe tbody tr th {\n",
              "        vertical-align: top;\n",
              "    }\n",
              "\n",
              "    .dataframe thead th {\n",
              "        text-align: right;\n",
              "    }\n",
              "</style>\n",
              "<table border=\"1\" class=\"dataframe\">\n",
              "  <thead>\n",
              "    <tr style=\"text-align: right;\">\n",
              "      <th></th>\n",
              "      <th>ikss_ka</th>\n",
              "      <th>ip_ka</th>\n",
              "      <th>ith_ka</th>\n",
              "    </tr>\n",
              "  </thead>\n",
              "  <tbody>\n",
              "    <tr>\n",
              "      <th>0</th>\n",
              "      <td>0.466671</td>\n",
              "      <td>0.915418</td>\n",
              "      <td>0.469123</td>\n",
              "    </tr>\n",
              "    <tr>\n",
              "      <th>1</th>\n",
              "      <td>0.459100</td>\n",
              "      <td>0.894771</td>\n",
              "      <td>0.461455</td>\n",
              "    </tr>\n",
              "    <tr>\n",
              "      <th>2</th>\n",
              "      <td>0.469892</td>\n",
              "      <td>0.924301</td>\n",
              "      <td>0.472386</td>\n",
              "    </tr>\n",
              "  </tbody>\n",
              "</table>\n",
              "</div>"
            ],
            "text/plain": [
              "    ikss_ka     ip_ka    ith_ka\n",
              "0  0.466671  0.915418  0.469123\n",
              "1  0.459100  0.894771  0.461455\n",
              "2  0.469892  0.924301  0.472386"
            ]
          },
          "metadata": {
            "tags": []
          },
          "execution_count": 4
        }
      ]
    },
    {
      "cell_type": "markdown",
      "metadata": {
        "id": "cSkV-cRikPmr",
        "colab_type": "text"
      },
      "source": [
        "transformers are...."
      ]
    },
    {
      "cell_type": "code",
      "metadata": {
        "id": "-l5M5j8DkNIE",
        "colab_type": "code",
        "outputId": "aa2b11e4-1b82-43ac-9689-8ced3947b7a6",
        "colab": {
          "base_uri": "https://localhost:8080/",
          "height": 80
        }
      },
      "source": [
        "net.res_trafo_sc\n"
      ],
      "execution_count": 0,
      "outputs": [
        {
          "output_type": "execute_result",
          "data": {
            "text/html": [
              "<div>\n",
              "<style scoped>\n",
              "    .dataframe tbody tr th:only-of-type {\n",
              "        vertical-align: middle;\n",
              "    }\n",
              "\n",
              "    .dataframe tbody tr th {\n",
              "        vertical-align: top;\n",
              "    }\n",
              "\n",
              "    .dataframe thead th {\n",
              "        text-align: right;\n",
              "    }\n",
              "</style>\n",
              "<table border=\"1\" class=\"dataframe\">\n",
              "  <thead>\n",
              "    <tr style=\"text-align: right;\">\n",
              "      <th></th>\n",
              "      <th>ikss_hv_ka</th>\n",
              "      <th>ikss_lv_ka</th>\n",
              "    </tr>\n",
              "  </thead>\n",
              "  <tbody>\n",
              "    <tr>\n",
              "      <th>0</th>\n",
              "      <td>0.238227</td>\n",
              "      <td>0.476454</td>\n",
              "    </tr>\n",
              "  </tbody>\n",
              "</table>\n",
              "</div>"
            ],
            "text/plain": [
              "   ikss_hv_ka  ikss_lv_ka\n",
              "0    0.238227    0.476454"
            ]
          },
          "metadata": {
            "tags": []
          },
          "execution_count": 5
        }
      ]
    },
    {
      "cell_type": "markdown",
      "metadata": {
        "id": "EHLr60FRkYGn",
        "colab_type": "text"
      },
      "source": [
        "# Minimum Short Circuit Currents\n",
        "Minimum short-circuits can be calculated in the same way. However, we need to specify the end temperature of the lines after a fault as per standard first:"
      ]
    },
    {
      "cell_type": "code",
      "metadata": {
        "id": "BcpZUTaGkUYh",
        "colab_type": "code",
        "outputId": "ed169b90-2afe-47dd-a47a-6674c5322956",
        "colab": {
          "base_uri": "https://localhost:8080/",
          "height": 190
        }
      },
      "source": [
        "net = ring_network()\n",
        "net.line[\"endtemp_degree\"] = 80\n",
        "sc.calc_sc(net, case=\"min\", ith=True, ip=True, branch_results=True)\n",
        "net.res_bus_sc"
      ],
      "execution_count": 0,
      "outputs": [
        {
          "output_type": "stream",
          "text": [
            "Branch results are in beta mode and might not always be reliable, especially for transformers\n"
          ],
          "name": "stderr"
        },
        {
          "output_type": "execute_result",
          "data": {
            "text/html": [
              "<div>\n",
              "<style scoped>\n",
              "    .dataframe tbody tr th:only-of-type {\n",
              "        vertical-align: middle;\n",
              "    }\n",
              "\n",
              "    .dataframe tbody tr th {\n",
              "        vertical-align: top;\n",
              "    }\n",
              "\n",
              "    .dataframe thead th {\n",
              "        text-align: right;\n",
              "    }\n",
              "</style>\n",
              "<table border=\"1\" class=\"dataframe\">\n",
              "  <thead>\n",
              "    <tr style=\"text-align: right;\">\n",
              "      <th></th>\n",
              "      <th>ikss_ka</th>\n",
              "      <th>ip_ka</th>\n",
              "      <th>ith_ka</th>\n",
              "    </tr>\n",
              "  </thead>\n",
              "  <tbody>\n",
              "    <tr>\n",
              "      <th>0</th>\n",
              "      <td>0.209946</td>\n",
              "      <td>0.462534</td>\n",
              "      <td>0.211736</td>\n",
              "    </tr>\n",
              "    <tr>\n",
              "      <th>1</th>\n",
              "      <td>0.384422</td>\n",
              "      <td>0.860874</td>\n",
              "      <td>0.387974</td>\n",
              "    </tr>\n",
              "    <tr>\n",
              "      <th>2</th>\n",
              "      <td>0.377608</td>\n",
              "      <td>0.832832</td>\n",
              "      <td>0.380846</td>\n",
              "    </tr>\n",
              "    <tr>\n",
              "      <th>3</th>\n",
              "      <td>0.379861</td>\n",
              "      <td>0.841982</td>\n",
              "      <td>0.383197</td>\n",
              "    </tr>\n",
              "  </tbody>\n",
              "</table>\n",
              "</div>"
            ],
            "text/plain": [
              "    ikss_ka     ip_ka    ith_ka\n",
              "0  0.209946  0.462534  0.211736\n",
              "1  0.384422  0.860874  0.387974\n",
              "2  0.377608  0.832832  0.380846\n",
              "3  0.379861  0.841982  0.383197"
            ]
          },
          "metadata": {
            "tags": []
          },
          "execution_count": 6
        }
      ]
    },
    {
      "cell_type": "markdown",
      "metadata": {
        "id": "uCd3La15ke6v",
        "colab_type": "text"
      },
      "source": [
        "The branch results are now the minimum current flows through each branch:\n",
        "\n"
      ]
    },
    {
      "cell_type": "code",
      "metadata": {
        "id": "myzsOxJQkc1M",
        "colab_type": "code",
        "outputId": "2b390c45-867b-4315-faea-ac80182088c5",
        "colab": {
          "base_uri": "https://localhost:8080/",
          "height": 142
        }
      },
      "source": [
        "net.res_line_sc\n"
      ],
      "execution_count": 0,
      "outputs": [
        {
          "output_type": "execute_result",
          "data": {
            "text/html": [
              "<div>\n",
              "<style scoped>\n",
              "    .dataframe tbody tr th:only-of-type {\n",
              "        vertical-align: middle;\n",
              "    }\n",
              "\n",
              "    .dataframe tbody tr th {\n",
              "        vertical-align: top;\n",
              "    }\n",
              "\n",
              "    .dataframe thead th {\n",
              "        text-align: right;\n",
              "    }\n",
              "</style>\n",
              "<table border=\"1\" class=\"dataframe\">\n",
              "  <thead>\n",
              "    <tr style=\"text-align: right;\">\n",
              "      <th></th>\n",
              "      <th>ikss_ka</th>\n",
              "      <th>ip_ka</th>\n",
              "      <th>ith_ka</th>\n",
              "    </tr>\n",
              "  </thead>\n",
              "  <tbody>\n",
              "    <tr>\n",
              "      <th>0</th>\n",
              "      <td>0.372278</td>\n",
              "      <td>0.811639</td>\n",
              "      <td>0.375302</td>\n",
              "    </tr>\n",
              "    <tr>\n",
              "      <th>1</th>\n",
              "      <td>0.372278</td>\n",
              "      <td>0.811639</td>\n",
              "      <td>0.375302</td>\n",
              "    </tr>\n",
              "    <tr>\n",
              "      <th>2</th>\n",
              "      <td>0.379861</td>\n",
              "      <td>0.841982</td>\n",
              "      <td>0.383197</td>\n",
              "    </tr>\n",
              "  </tbody>\n",
              "</table>\n",
              "</div>"
            ],
            "text/plain": [
              "    ikss_ka     ip_ka    ith_ka\n",
              "0  0.372278  0.811639  0.375302\n",
              "1  0.372278  0.811639  0.375302\n",
              "2  0.379861  0.841982  0.383197"
            ]
          },
          "metadata": {
            "tags": []
          },
          "execution_count": 7
        }
      ]
    },
    {
      "cell_type": "code",
      "metadata": {
        "id": "lZ10n1XckhNa",
        "colab_type": "code",
        "outputId": "a0df8b5e-a7d0-4665-f748-b65bc42e5363",
        "colab": {
          "base_uri": "https://localhost:8080/",
          "height": 80
        }
      },
      "source": [
        "net.res_trafo_sc\n"
      ],
      "execution_count": 0,
      "outputs": [
        {
          "output_type": "execute_result",
          "data": {
            "text/html": [
              "<div>\n",
              "<style scoped>\n",
              "    .dataframe tbody tr th:only-of-type {\n",
              "        vertical-align: middle;\n",
              "    }\n",
              "\n",
              "    .dataframe tbody tr th {\n",
              "        vertical-align: top;\n",
              "    }\n",
              "\n",
              "    .dataframe thead th {\n",
              "        text-align: right;\n",
              "    }\n",
              "</style>\n",
              "<table border=\"1\" class=\"dataframe\">\n",
              "  <thead>\n",
              "    <tr style=\"text-align: right;\">\n",
              "      <th></th>\n",
              "      <th>ikss_hv_ka</th>\n",
              "      <th>ikss_lv_ka</th>\n",
              "    </tr>\n",
              "  </thead>\n",
              "  <tbody>\n",
              "    <tr>\n",
              "      <th>0</th>\n",
              "      <td>0.186139</td>\n",
              "      <td>0.372278</td>\n",
              "    </tr>\n",
              "  </tbody>\n",
              "</table>\n",
              "</div>"
            ],
            "text/plain": [
              "   ikss_hv_ka  ikss_lv_ka\n",
              "0    0.186139    0.372278"
            ]
          },
          "metadata": {
            "tags": []
          },
          "execution_count": 8
        }
      ]
    },
    {
      "cell_type": "markdown",
      "metadata": {
        "id": "dIc5dOPOkuJ1",
        "colab_type": "text"
      },
      "source": [
        "# Fault Impedance\n",
        "It is also possible to specify a fault impedance in the short-circuit calculation:"
      ]
    },
    {
      "cell_type": "code",
      "metadata": {
        "id": "IbHU-H1TkjGi",
        "colab_type": "code",
        "colab": {}
      },
      "source": [
        "net = ring_network()\n",
        "sc.calc_sc(net, topology=\"radial\", ip=True, ith=True, r_fault_ohm=1., x_fault_ohm=2.)"
      ],
      "execution_count": 0,
      "outputs": []
    },
    {
      "cell_type": "code",
      "metadata": {
        "id": "YcnTCuIPkx-m",
        "colab_type": "code",
        "outputId": "00c1aeb5-b584-40ff-f5a2-c4d46279113d",
        "colab": {
          "base_uri": "https://localhost:8080/",
          "height": 173
        }
      },
      "source": [
        "net.res_bus_sc\n"
      ],
      "execution_count": 0,
      "outputs": [
        {
          "output_type": "execute_result",
          "data": {
            "text/html": [
              "<div>\n",
              "<style scoped>\n",
              "    .dataframe tbody tr th:only-of-type {\n",
              "        vertical-align: middle;\n",
              "    }\n",
              "\n",
              "    .dataframe tbody tr th {\n",
              "        vertical-align: top;\n",
              "    }\n",
              "\n",
              "    .dataframe thead th {\n",
              "        text-align: right;\n",
              "    }\n",
              "</style>\n",
              "<table border=\"1\" class=\"dataframe\">\n",
              "  <thead>\n",
              "    <tr style=\"text-align: right;\">\n",
              "      <th></th>\n",
              "      <th>ikss_ka</th>\n",
              "      <th>ip_ka</th>\n",
              "      <th>ith_ka</th>\n",
              "    </tr>\n",
              "  </thead>\n",
              "  <tbody>\n",
              "    <tr>\n",
              "      <th>0</th>\n",
              "      <td>0.261343</td>\n",
              "      <td>0.503509</td>\n",
              "      <td>0.262627</td>\n",
              "    </tr>\n",
              "    <tr>\n",
              "      <th>1</th>\n",
              "      <td>0.469382</td>\n",
              "      <td>0.926656</td>\n",
              "      <td>0.471909</td>\n",
              "    </tr>\n",
              "    <tr>\n",
              "      <th>2</th>\n",
              "      <td>0.459875</td>\n",
              "      <td>0.900379</td>\n",
              "      <td>0.462274</td>\n",
              "    </tr>\n",
              "    <tr>\n",
              "      <th>3</th>\n",
              "      <td>0.463005</td>\n",
              "      <td>0.908972</td>\n",
              "      <td>0.465446</td>\n",
              "    </tr>\n",
              "  </tbody>\n",
              "</table>\n",
              "</div>"
            ],
            "text/plain": [
              "    ikss_ka     ip_ka    ith_ka\n",
              "0  0.261343  0.503509  0.262627\n",
              "1  0.469382  0.926656  0.471909\n",
              "2  0.459875  0.900379  0.462274\n",
              "3  0.463005  0.908972  0.465446"
            ]
          },
          "metadata": {
            "tags": []
          },
          "execution_count": 10
        }
      ]
    },
    {
      "cell_type": "code",
      "metadata": {
        "id": "f0TnHEfPk2Ap",
        "colab_type": "code",
        "colab": {}
      },
      "source": [
        ""
      ],
      "execution_count": 0,
      "outputs": []
    }
  ]
}